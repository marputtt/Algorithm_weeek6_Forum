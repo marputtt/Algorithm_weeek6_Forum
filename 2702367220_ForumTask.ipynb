{
 "cells": [
  {
   "cell_type": "code",
   "execution_count": 2,
   "metadata": {},
   "outputs": [
    {
     "name": "stdout",
     "output_type": "stream",
     "text": [
      "B\n"
     ]
    }
   ],
   "source": [
    "lloyd = {\n",
    "    \"name\": \"Lloyd\",\n",
    "    \"homework\": [90.0, 97.0, 75.0, 92.0],\n",
    "    \"quizzes\": [88.0, 40.0, 94.0],\n",
    "    \"tests\": [75.0, 90.0]\n",
    "}\n",
    "alice = {\n",
    "    \"name\": \"Alice\",\n",
    "    \"homework\": [100.0, 92.0, 98.0, 86.0],\n",
    "    \"quizzes\": [82.0, 83.0, 91.0],\n",
    "    \"tests\": [89.0, 97.0]\n",
    "}\n",
    "tyler = {\n",
    "    \"name\": \"Tyler\",\n",
    "    \"homework\": [0.0, 87.0, 75.0, 22.0],\n",
    "    \"quizzes\": [0.0, 75.0, 78.0],\n",
    "    \"tests\": [100.0, 100.0]\n",
    "}\n",
    "\n",
    "students = [lloyd, alice, tyler]\n",
    "\n",
    "def average(numbers):\n",
    "    total = sum(numbers)\n",
    "    total = float(total)\n",
    "    length = len(numbers)\n",
    "    return total / length\n",
    "\n",
    "def get_average(student):\n",
    "    homework = average(student[\"homework\"])\n",
    "    quizzes = average(student[\"quizzes\"])\n",
    "    tests = average(student[\"tests\"])\n",
    "    return (0.1 * homework) + (0.3 * quizzes) + (0.6 * tests)\n",
    "\n",
    "def get_letter_grade(score):\n",
    "    if score >= 90:\n",
    "        return \"A\"\n",
    "    elif score >= 80:\n",
    "        return \"B\"\n",
    "    elif score >= 70:\n",
    "        return \"C\"\n",
    "    elif score >= 60:\n",
    "        return \"D\"\n",
    "    else:\n",
    "        return \"F\"\n",
    "\n",
    "def get_class_average(students):\n",
    "    results = []\n",
    "    for student in students:\n",
    "        results.append(get_average(student))\n",
    "    return average(results)\n",
    "\n",
    "print(get_letter_grade(get_class_average(students)))"
   ]
  },
  {
   "cell_type": "code",
   "execution_count": 4,
   "metadata": {},
   "outputs": [
    {
     "name": "stdout",
     "output_type": "stream",
     "text": [
      "\n",
      "Course Information:\n",
      "Course Number: COP 2510\n",
      "Course Name: Programming Concepts\n",
      "Instructor: Z. Beasley\n",
      "Class Times: MW 12:30pm – 1:45pm\n"
     ]
    }
   ],
   "source": [
    "CourseNumbers = (\"COP 2510\", \"EGN 3000L\", \"MAC 2281\", \"MUH 3016\", \"PHY 2048\")\n",
    "\n",
    "CourseNames = {\n",
    "    \"COP 2510\": \"Programming Concepts\",\n",
    "    \"EGN 3000L\": \"Foundations of Engineering Lab\",\n",
    "    \"MAC 2281\": \"Calculus I\",\n",
    "    \"MUH 3016\": \"Survey of Jazz\",\n",
    "    \"PHY 2048\": \"General Physics I\"\n",
    "}\n",
    "\n",
    "Instructors = {\n",
    "    \"COP 2510\": \"Z. Beasley\",\n",
    "    \"EGN 3000L\": \"J. Anderson\",\n",
    "    \"MAC 2281\": \"A. Makaryus\",\n",
    "    \"MUH 3016\": \"A. Wilkins\",\n",
    "    \"PHY 2048\": \"G. Pradhan\"\n",
    "}\n",
    "\n",
    "ClassTimes = {\n",
    "    \"COP 2510\": \"MW 12:30pm – 1:45pm\",\n",
    "    \"EGN 3000L\": \"TR 11:00am – 12:15pm\",\n",
    "    \"MAC 2281\": \"MW 9:30am – 10:45am\",\n",
    "    \"MUH 3016\": \"online asynchronous\",\n",
    "    \"PHY 2048\": \"TR 5:00pm – 6:15pm\"\n",
    "}\n",
    "\n",
    "course_number = input(\"Enter the course number: \")\n",
    "\n",
    "if course_number in CourseNames:\n",
    "    print(\"\\nCourse Information:\")\n",
    "    print(f\"Course Number: {course_number}\")\n",
    "    print(f\"Course Name: {CourseNames[course_number]}\")\n",
    "    print(f\"Instructor: {Instructors[course_number]}\")\n",
    "    print(f\"Class Times: {ClassTimes[course_number]}\")\n",
    "else:\n",
    "    print(\"\\nCourse can't be found.\")"
   ]
  },
  {
   "cell_type": "code",
   "execution_count": 13,
   "metadata": {},
   "outputs": [
    {
     "name": "stdout",
     "output_type": "stream",
     "text": [
      "\n",
      "Total sales of the week: $8,169.00\n",
      "Minimum sales amount: $23.00\n",
      "Maximum sales amount: $3,223.00\n"
     ]
    }
   ],
   "source": [
    "import locale\n",
    "days_of_week = (\"Sunday\", \"Monday\", \"Tuesday\", \"Wednesday\", \"Thursday\", \"Friday\", \"Saturday\")\n",
    "\n",
    "\n",
    "sales_data = []\n",
    "\n",
    "\n",
    "for day in days_of_week:\n",
    "    while True:\n",
    "        try:\n",
    "            sales = float(input(f\"Enter the retail store's sales for {day}: \"))\n",
    "        except ValueError:\n",
    "            print(\"Invalid input. Please enter a number.\")\n",
    "            continue\n",
    "\n",
    "        if sales < 0:\n",
    "            print(\"Invalid input. Please enter a number greater than or equal to 0.\")\n",
    "        else:\n",
    "            sales_data.append(sales)\n",
    "            break\n",
    "total_sales = sum(sales_data)\n",
    "\n",
    "min_sales = min(sales_data)\n",
    "max_sales = max(sales_data)\n",
    "\n",
    "total_sales_formatted = \"${:,.2f}\".format(total_sales)\n",
    "min_sales_formatted = \"${:,.2f}\".format(min_sales)\n",
    "max_sales_formatted = \"${:,.2f}\".format(max_sales)\n",
    "\n",
    "print(f\"\\nTotal sales of the week: {total_sales_formatted}\")\n",
    "print(f\"Minimum sales amount: {min_sales_formatted}\")\n",
    "print(f\"Maximum sales amount: {max_sales_formatted}\")"
   ]
  },
  {
   "cell_type": "code",
   "execution_count": 29,
   "metadata": {},
   "outputs": [
    {
     "name": "stdout",
     "output_type": "stream",
     "text": [
      "....-. -..... .--.....--..-. .--.-... ....-..--- -.....-. .--.....-- .--.-... -..... --.-..-....-..----.\n"
     ]
    }
   ],
   "source": [
    "def morse_code_converter(user_input):\n",
    "    morse_code_dict = {\n",
    "        'A': '.-', 'B': '-...', 'C': '-.-.', 'D': '-..', 'E': '.', 'F': '..-.', 'G': '--.', 'H': '....', 'I': '..', 'J': '.---', 'K': '-.-',\n",
    "        'L': '.-..', 'M': '--', 'N': '-.', 'O': '---', 'P': '.--.', 'Q': '--.-', 'R': '.-.', 'S': '...', 'T': '-', 'U': '..-', 'V': '...-',\n",
    "        'W': '.--', 'X': '-..-', 'Y': '-.--', 'Z': '--..', '0': '-----', '1': '.----', '2': '..---', '3': '...--', '4': '....-', '5': '.....',\n",
    "        '6': '-....', '7': '--...', '8': '---..', '9': '----.', ' ': ' '\n",
    "    }\n",
    "\n",
    "    user_input = user_input.upper()\n",
    "    morse_code = \"\"\n",
    "\n",
    "    for char in user_input:\n",
    "        if char not in morse_code_dict:\n",
    "            morse_code += \"\"\n",
    "        else:\n",
    "            morse_code += morse_code_dict[char]\n",
    "\n",
    "    return morse_code\n",
    "\n",
    "user_input = input(\"Enter a string: \")\n",
    "print(morse_code_converter(user_input))"
   ]
  }
 ],
 "metadata": {
  "kernelspec": {
   "display_name": "Python 3",
   "language": "python",
   "name": "python3"
  },
  "language_info": {
   "codemirror_mode": {
    "name": "ipython",
    "version": 3
   },
   "file_extension": ".py",
   "mimetype": "text/x-python",
   "name": "python",
   "nbconvert_exporter": "python",
   "pygments_lexer": "ipython3",
   "version": "3.11.5"
  },
  "orig_nbformat": 4
 },
 "nbformat": 4,
 "nbformat_minor": 2
}
